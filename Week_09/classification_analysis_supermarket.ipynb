{
 "cells": [
  {
   "cell_type": "markdown",
   "id": "a59b1799",
   "metadata": {},
   "source": [
    "# Classification analysis (supermarket data)"
   ]
  },
  {
   "cell_type": "markdown",
   "id": "8ca19f50",
   "metadata": {},
   "source": [
    "## Libraries and settings"
   ]
  },
  {
   "cell_type": "code",
   "execution_count": 71,
   "id": "2406c857",
   "metadata": {},
   "outputs": [
    {
     "name": "stdout",
     "output_type": "stream",
     "text": [
      "/Users/matthewjohnson/Documents/Studium/Module/DA/data_analytics/Week_09\n"
     ]
    },
    {
     "data": {
      "text/plain": [
       "'1.1.2'"
      ]
     },
     "execution_count": 71,
     "metadata": {},
     "output_type": "execute_result"
    }
   ],
   "source": [
    "# Libraries\n",
    "import os\n",
    "import numpy as np\n",
    "import pandas as pd\n",
    "import seaborn as sns\n",
    "import matplotlib.pyplot as plt\n",
    "from IPython.display import Image\n",
    "\n",
    "from sklearn import tree\n",
    "from sklearn.metrics import RocCurveDisplay\n",
    "from sklearn.tree import DecisionTreeClassifier\n",
    "from sklearn.ensemble import RandomForestClassifier\n",
    "from sklearn.model_selection import train_test_split\n",
    "from sklearn.metrics import classification_report, confusion_matrix\n",
    "\n",
    "# Ignore warnings\n",
    "import warnings\n",
    "warnings.filterwarnings('ignore')\n",
    "\n",
    "# Show current working directory\n",
    "print(os.getcwd())\n",
    "\n",
    "# Show version of scikit-learn\n",
    "import sklearn\n",
    "sklearn.__version__"
   ]
  },
  {
   "cell_type": "markdown",
   "id": "3874c706",
   "metadata": {},
   "source": [
    "## Import supermarket data"
   ]
  },
  {
   "cell_type": "code",
   "execution_count": 72,
   "id": "9d01b013",
   "metadata": {},
   "outputs": [
    {
     "name": "stdout",
     "output_type": "stream",
     "text": [
      "(3242, 10)\n"
     ]
    },
    {
     "data": {
      "text/html": [
       "<div>\n",
       "<style scoped>\n",
       "    .dataframe tbody tr th:only-of-type {\n",
       "        vertical-align: middle;\n",
       "    }\n",
       "\n",
       "    .dataframe tbody tr th {\n",
       "        vertical-align: top;\n",
       "    }\n",
       "\n",
       "    .dataframe thead th {\n",
       "        text-align: right;\n",
       "    }\n",
       "</style>\n",
       "<table border=\"1\" class=\"dataframe\">\n",
       "  <thead>\n",
       "    <tr style=\"text-align: right;\">\n",
       "      <th></th>\n",
       "      <th>id</th>\n",
       "      <th>bfs_name</th>\n",
       "      <th>bfs_number</th>\n",
       "      <th>lat</th>\n",
       "      <th>lon</th>\n",
       "      <th>brand</th>\n",
       "      <th>pop</th>\n",
       "      <th>pop_dens</th>\n",
       "      <th>frg_pct</th>\n",
       "      <th>emp</th>\n",
       "    </tr>\n",
       "  </thead>\n",
       "  <tbody>\n",
       "    <tr>\n",
       "      <th>0</th>\n",
       "      <td>33126515</td>\n",
       "      <td>Schänis</td>\n",
       "      <td>3315</td>\n",
       "      <td>47.155616</td>\n",
       "      <td>9.037915</td>\n",
       "      <td>Spar</td>\n",
       "      <td>3876</td>\n",
       "      <td>97.142857</td>\n",
       "      <td>13.054696</td>\n",
       "      <td>1408.0</td>\n",
       "    </tr>\n",
       "    <tr>\n",
       "      <th>1</th>\n",
       "      <td>280130028</td>\n",
       "      <td>Schänis</td>\n",
       "      <td>3315</td>\n",
       "      <td>47.155492</td>\n",
       "      <td>9.039666</td>\n",
       "      <td>ALDI</td>\n",
       "      <td>3876</td>\n",
       "      <td>97.142857</td>\n",
       "      <td>13.054696</td>\n",
       "      <td>1408.0</td>\n",
       "    </tr>\n",
       "    <tr>\n",
       "      <th>2</th>\n",
       "      <td>6122906632</td>\n",
       "      <td>Schänis</td>\n",
       "      <td>3315</td>\n",
       "      <td>47.158959</td>\n",
       "      <td>9.044477</td>\n",
       "      <td>Denner</td>\n",
       "      <td>3876</td>\n",
       "      <td>97.142857</td>\n",
       "      <td>13.054696</td>\n",
       "      <td>1408.0</td>\n",
       "    </tr>\n",
       "    <tr>\n",
       "      <th>3</th>\n",
       "      <td>9019298862</td>\n",
       "      <td>Schänis</td>\n",
       "      <td>3315</td>\n",
       "      <td>47.155185</td>\n",
       "      <td>9.038472</td>\n",
       "      <td>Lidl</td>\n",
       "      <td>3876</td>\n",
       "      <td>97.142857</td>\n",
       "      <td>13.054696</td>\n",
       "      <td>1408.0</td>\n",
       "    </tr>\n",
       "    <tr>\n",
       "      <th>4</th>\n",
       "      <td>36726161</td>\n",
       "      <td>Uznach</td>\n",
       "      <td>3339</td>\n",
       "      <td>47.226191</td>\n",
       "      <td>8.980329</td>\n",
       "      <td>Migros</td>\n",
       "      <td>6489</td>\n",
       "      <td>860.610080</td>\n",
       "      <td>27.862537</td>\n",
       "      <td>3500.0</td>\n",
       "    </tr>\n",
       "  </tbody>\n",
       "</table>\n",
       "</div>"
      ],
      "text/plain": [
       "           id bfs_name  bfs_number        lat       lon   brand   pop  \\\n",
       "0    33126515  Schänis        3315  47.155616  9.037915    Spar  3876   \n",
       "1   280130028  Schänis        3315  47.155492  9.039666    ALDI  3876   \n",
       "2  6122906632  Schänis        3315  47.158959  9.044477  Denner  3876   \n",
       "3  9019298862  Schänis        3315  47.155185  9.038472    Lidl  3876   \n",
       "4    36726161   Uznach        3339  47.226191  8.980329  Migros  6489   \n",
       "\n",
       "     pop_dens    frg_pct     emp  \n",
       "0   97.142857  13.054696  1408.0  \n",
       "1   97.142857  13.054696  1408.0  \n",
       "2   97.142857  13.054696  1408.0  \n",
       "3   97.142857  13.054696  1408.0  \n",
       "4  860.610080  27.862537  3500.0  "
      ]
     },
     "execution_count": 72,
     "metadata": {},
     "output_type": "execute_result"
    }
   ],
   "source": [
    "# Read and select variables\n",
    "\n",
    "df_supermarkets = pd.read_csv('supermarkets_data_enriched.csv', \n",
    "                 sep=',', \n",
    "                 encoding='utf-8')[['id',\n",
    "                                    'bfs_name',\n",
    "                                    'bfs_number',\n",
    "                                    'lat',\n",
    "                                    'lon',\n",
    "                                    'brand',\n",
    "                                    'pop',\n",
    "                                    'pop_dens',\n",
    "                                    'frg_pct',\n",
    "                                    'emp']]\n",
    "\n",
    "# Number of rows and columns\n",
    "print(df_supermarkets.shape)\n",
    "\n",
    "# First records\n",
    "df_supermarkets.head(5)"
   ]
  },
  {
   "cell_type": "markdown",
   "id": "504180cb",
   "metadata": {},
   "source": [
    "## Count and remove missing values"
   ]
  },
  {
   "cell_type": "code",
   "execution_count": 73,
   "id": "3c48e42d",
   "metadata": {},
   "outputs": [
    {
     "name": "stdout",
     "output_type": "stream",
     "text": [
      "id               0\n",
      "bfs_name         0\n",
      "bfs_number       0\n",
      "lat              0\n",
      "lon              0\n",
      "brand         1233\n",
      "pop              0\n",
      "pop_dens         0\n",
      "frg_pct          0\n",
      "emp             45\n",
      "dtype: int64\n"
     ]
    }
   ],
   "source": [
    "# Count missing values\n",
    "print(df_supermarkets.isna().sum())\n",
    "\n",
    "# Remove missing values\n",
    "df_supermarkets = df_supermarkets.dropna(subset=['brand', 'emp'])"
   ]
  },
  {
   "cell_type": "markdown",
   "id": "492b5db0",
   "metadata": {},
   "source": [
    "### Create a subset named ‘df_sub’ with only ‘Migros’ and ‘Volg’ as brands."
   ]
  },
  {
   "cell_type": "code",
   "execution_count": 74,
   "id": "77b75cc7",
   "metadata": {},
   "outputs": [
    {
     "name": "stdout",
     "output_type": "stream",
     "text": [
      "(696, 10)\n"
     ]
    },
    {
     "data": {
      "text/html": [
       "<div>\n",
       "<style scoped>\n",
       "    .dataframe tbody tr th:only-of-type {\n",
       "        vertical-align: middle;\n",
       "    }\n",
       "\n",
       "    .dataframe tbody tr th {\n",
       "        vertical-align: top;\n",
       "    }\n",
       "\n",
       "    .dataframe thead th {\n",
       "        text-align: right;\n",
       "    }\n",
       "</style>\n",
       "<table border=\"1\" class=\"dataframe\">\n",
       "  <thead>\n",
       "    <tr style=\"text-align: right;\">\n",
       "      <th></th>\n",
       "      <th>id</th>\n",
       "      <th>bfs_name</th>\n",
       "      <th>bfs_number</th>\n",
       "      <th>lat</th>\n",
       "      <th>lon</th>\n",
       "      <th>brand</th>\n",
       "      <th>pop</th>\n",
       "      <th>pop_dens</th>\n",
       "      <th>frg_pct</th>\n",
       "      <th>emp</th>\n",
       "    </tr>\n",
       "  </thead>\n",
       "  <tbody>\n",
       "    <tr>\n",
       "      <th>4</th>\n",
       "      <td>36726161</td>\n",
       "      <td>Uznach</td>\n",
       "      <td>3339</td>\n",
       "      <td>47.226191</td>\n",
       "      <td>8.980329</td>\n",
       "      <td>Migros</td>\n",
       "      <td>6489</td>\n",
       "      <td>860.610080</td>\n",
       "      <td>27.862537</td>\n",
       "      <td>3500.0</td>\n",
       "    </tr>\n",
       "    <tr>\n",
       "      <th>8</th>\n",
       "      <td>48932835</td>\n",
       "      <td>Zürich</td>\n",
       "      <td>261</td>\n",
       "      <td>47.375020</td>\n",
       "      <td>8.522895</td>\n",
       "      <td>Migros</td>\n",
       "      <td>420217</td>\n",
       "      <td>4778.994655</td>\n",
       "      <td>32.458468</td>\n",
       "      <td>491193.0</td>\n",
       "    </tr>\n",
       "    <tr>\n",
       "      <th>11</th>\n",
       "      <td>83330862</td>\n",
       "      <td>Zürich</td>\n",
       "      <td>261</td>\n",
       "      <td>47.344749</td>\n",
       "      <td>8.529981</td>\n",
       "      <td>Migros</td>\n",
       "      <td>420217</td>\n",
       "      <td>4778.994655</td>\n",
       "      <td>32.458468</td>\n",
       "      <td>491193.0</td>\n",
       "    </tr>\n",
       "    <tr>\n",
       "      <th>12</th>\n",
       "      <td>119249170</td>\n",
       "      <td>Zürich</td>\n",
       "      <td>261</td>\n",
       "      <td>47.375255</td>\n",
       "      <td>8.536107</td>\n",
       "      <td>Migros</td>\n",
       "      <td>420217</td>\n",
       "      <td>4778.994655</td>\n",
       "      <td>32.458468</td>\n",
       "      <td>491193.0</td>\n",
       "    </tr>\n",
       "    <tr>\n",
       "      <th>15</th>\n",
       "      <td>262400822</td>\n",
       "      <td>Zürich</td>\n",
       "      <td>261</td>\n",
       "      <td>47.364072</td>\n",
       "      <td>8.530945</td>\n",
       "      <td>Migros</td>\n",
       "      <td>420217</td>\n",
       "      <td>4778.994655</td>\n",
       "      <td>32.458468</td>\n",
       "      <td>491193.0</td>\n",
       "    </tr>\n",
       "  </tbody>\n",
       "</table>\n",
       "</div>"
      ],
      "text/plain": [
       "           id bfs_name  bfs_number        lat       lon   brand     pop  \\\n",
       "4    36726161   Uznach        3339  47.226191  8.980329  Migros    6489   \n",
       "8    48932835   Zürich         261  47.375020  8.522895  Migros  420217   \n",
       "11   83330862   Zürich         261  47.344749  8.529981  Migros  420217   \n",
       "12  119249170   Zürich         261  47.375255  8.536107  Migros  420217   \n",
       "15  262400822   Zürich         261  47.364072  8.530945  Migros  420217   \n",
       "\n",
       "       pop_dens    frg_pct       emp  \n",
       "4    860.610080  27.862537    3500.0  \n",
       "8   4778.994655  32.458468  491193.0  \n",
       "11  4778.994655  32.458468  491193.0  \n",
       "12  4778.994655  32.458468  491193.0  \n",
       "15  4778.994655  32.458468  491193.0  "
      ]
     },
     "execution_count": 74,
     "metadata": {},
     "output_type": "execute_result"
    }
   ],
   "source": [
    "df_sub = df_supermarkets.loc[df_supermarkets['brand'].isin(['Migros', 'Volg'])]\n",
    "print(df_sub.shape)\n",
    "df_sub.head()"
   ]
  },
  {
   "cell_type": "markdown",
   "id": "8454077a",
   "metadata": {},
   "source": [
    "## Classification Tree\n",
    "For details see: https://scikit-learn.org/stable/modules/generated/sklearn.tree.DecisionTreeClassifier.html"
   ]
  },
  {
   "cell_type": "markdown",
   "id": "33fdc652",
   "metadata": {},
   "source": [
    "### Create train and test samples (train = 80%, test = 20% of the data)"
   ]
  },
  {
   "cell_type": "code",
   "execution_count": 75,
   "id": "9ede480d",
   "metadata": {},
   "outputs": [
    {
     "name": "stdout",
     "output_type": "stream",
     "text": [
      "X_train:\n",
      "            lat       lon     pop      pop_dens    frg_pct       emp\n",
      "427   46.767777  9.062487    1728     17.891903   8.217593     725.0\n",
      "271   47.552670  7.592713  173232   7263.396226  37.955459  185432.0\n",
      "1149  46.203871  6.146234  203951  12810.992462  47.954656  186620.0\n",
      "2655  46.774599  9.207659    4757     35.638298  16.312802    3229.0\n",
      "2369  47.126317  7.246363    6872   4521.052632  26.062282    3185.0 \n",
      "\n",
      "y_train:\n",
      "427       Volg\n",
      "271     Migros\n",
      "1149    Migros\n",
      "2655    Migros\n",
      "2369    Migros\n",
      "Name: brand, dtype: object\n"
     ]
    }
   ],
   "source": [
    "# Create train and test samples\n",
    "X_train, X_test, y_train, y_test = train_test_split(df_sub[['lat',\n",
    "                                                            'lon',\n",
    "                                                            'pop', \n",
    "                                                            'pop_dens', \n",
    "                                                            'frg_pct', \n",
    "                                                            'emp']], \n",
    "                                                                df_sub['brand'], \n",
    "                                                                test_size=0.2, \n",
    "                                                                random_state=42)\n",
    "\n",
    "# Show X_train\n",
    "print('X_train:')\n",
    "print(X_train.head(), '\\n')\n",
    "\n",
    "# Show y_train\n",
    "print('y_train:')\n",
    "print(y_train.head())"
   ]
  },
  {
   "cell_type": "markdown",
   "id": "d6cff87c",
   "metadata": {},
   "source": [
    "### Fit the classification tree model and make predictions"
   ]
  },
  {
   "cell_type": "code",
   "execution_count": 76,
   "id": "db24f230",
   "metadata": {},
   "outputs": [
    {
     "data": {
      "text/plain": [
       "array(['Migros', 'Migros', 'Migros', 'Migros', 'Migros', 'Migros',\n",
       "       'Migros', 'Migros', 'Volg', 'Migros', 'Volg', 'Migros', 'Migros',\n",
       "       'Migros', 'Migros', 'Volg', 'Volg', 'Volg', 'Volg', 'Volg', 'Volg',\n",
       "       'Migros', 'Volg', 'Migros', 'Migros', 'Volg', 'Volg', 'Migros',\n",
       "       'Volg', 'Migros', 'Migros', 'Volg', 'Migros', 'Migros', 'Migros',\n",
       "       'Migros', 'Migros', 'Migros', 'Migros', 'Migros', 'Migros',\n",
       "       'Migros', 'Volg', 'Volg', 'Volg', 'Migros', 'Volg', 'Migros',\n",
       "       'Migros', 'Migros', 'Migros', 'Migros', 'Migros', 'Migros',\n",
       "       'Migros', 'Migros', 'Volg', 'Migros', 'Migros', 'Volg', 'Migros',\n",
       "       'Migros', 'Migros', 'Migros', 'Migros', 'Migros', 'Migros',\n",
       "       'Migros', 'Migros', 'Migros', 'Migros', 'Migros', 'Volg', 'Migros',\n",
       "       'Migros', 'Volg', 'Migros', 'Migros', 'Migros', 'Migros', 'Volg',\n",
       "       'Migros', 'Volg', 'Migros', 'Migros', 'Migros', 'Migros', 'Migros',\n",
       "       'Migros', 'Migros', 'Migros', 'Volg', 'Migros', 'Migros', 'Migros',\n",
       "       'Migros', 'Migros', 'Volg', 'Migros', 'Migros', 'Migros', 'Migros',\n",
       "       'Migros', 'Migros', 'Migros', 'Migros', 'Migros', 'Migros',\n",
       "       'Migros', 'Migros', 'Volg', 'Migros', 'Migros', 'Migros', 'Volg',\n",
       "       'Migros', 'Volg', 'Migros', 'Volg', 'Migros', 'Volg', 'Migros',\n",
       "       'Migros', 'Migros', 'Migros', 'Migros', 'Volg', 'Migros', 'Migros',\n",
       "       'Migros', 'Migros', 'Volg', 'Migros', 'Migros', 'Migros', 'Migros',\n",
       "       'Migros', 'Migros', 'Migros', 'Migros'], dtype=object)"
      ]
     },
     "execution_count": 76,
     "metadata": {},
     "output_type": "execute_result"
    }
   ],
   "source": [
    "# Initialize the classification tree model \n",
    "clf = DecisionTreeClassifier(random_state=20, \n",
    "                             max_depth=3)\n",
    "\n",
    "# Train the classification tree model \n",
    "clf = clf.fit(X_train, y_train)\n",
    "\n",
    "# Make model predictions\n",
    "y_pred = clf.predict(X_test)\n",
    "y_pred"
   ]
  },
  {
   "cell_type": "markdown",
   "id": "a28a20dd",
   "metadata": {},
   "source": [
    "### Show confusion matrix and classification report"
   ]
  },
  {
   "cell_type": "code",
   "execution_count": 77,
   "id": "de5355f0",
   "metadata": {},
   "outputs": [
    {
     "name": "stdout",
     "output_type": "stream",
     "text": [
      "Confusion matrix\n",
      "[[100   8]\n",
      " [  8  24]] \n",
      "\n",
      "Classification report\n",
      "              precision    recall  f1-score   support\n",
      "\n",
      "      Migros       0.93      0.93      0.93       108\n",
      "        Volg       0.75      0.75      0.75        32\n",
      "\n",
      "    accuracy                           0.89       140\n",
      "   macro avg       0.84      0.84      0.84       140\n",
      "weighted avg       0.89      0.89      0.89       140\n",
      "\n"
     ]
    }
   ],
   "source": [
    "# Confusion matrix\n",
    "print('Confusion matrix')\n",
    "print(confusion_matrix(y_test, y_pred), '\\n')\n",
    "\n",
    "# Classification report\n",
    "print('Classification report')\n",
    "print(classification_report(y_test, y_pred))"
   ]
  },
  {
   "cell_type": "markdown",
   "id": "9937202a",
   "metadata": {},
   "source": [
    "### Print text representation of the classification tree"
   ]
  },
  {
   "cell_type": "code",
   "execution_count": 78,
   "id": "4ffdb05f",
   "metadata": {},
   "outputs": [
    {
     "name": "stdout",
     "output_type": "stream",
     "text": [
      "|--- emp <= 1399.00\n",
      "|   |--- pop <= 2598.50\n",
      "|   |   |--- lat <= 46.35\n",
      "|   |   |   |--- class: Volg\n",
      "|   |   |--- lat >  46.35\n",
      "|   |   |   |--- class: Volg\n",
      "|   |--- pop >  2598.50\n",
      "|   |   |--- lat <= 46.87\n",
      "|   |   |   |--- class: Migros\n",
      "|   |   |--- lat >  46.87\n",
      "|   |   |   |--- class: Volg\n",
      "|--- emp >  1399.00\n",
      "|   |--- lon <= 8.61\n",
      "|   |   |--- pop_dens <= 1418.86\n",
      "|   |   |   |--- class: Migros\n",
      "|   |   |--- pop_dens >  1418.86\n",
      "|   |   |   |--- class: Migros\n",
      "|   |--- lon >  8.61\n",
      "|   |   |--- frg_pct <= 23.20\n",
      "|   |   |   |--- class: Migros\n",
      "|   |   |--- frg_pct >  23.20\n",
      "|   |   |   |--- class: Migros\n",
      "\n"
     ]
    }
   ],
   "source": [
    "# Text representation of the classification tree\n",
    "text_rep = tree.export_text(clf, \n",
    "                            feature_names=list(X_train.columns))\n",
    "\n",
    "# Print text_representation\n",
    "print(text_rep)"
   ]
  },
  {
   "cell_type": "markdown",
   "id": "381947af",
   "metadata": {},
   "source": [
    "## Visualize the classification tree"
   ]
  },
  {
   "cell_type": "code",
   "execution_count": 79,
   "id": "85f22840",
   "metadata": {},
   "outputs": [
    {
     "data": {
      "image/png": "[encoded data removed]",
      "text/plain": [
       "<Figure size 1200x500 with 1 Axes>"
      ]
     },
     "metadata": {},
     "output_type": "display_data"
    }
   ],
   "source": [
    "# For the meaning of numbers in boxes see root node\n",
    "fig = plt.figure(figsize=(12,5))\n",
    "tree_plot = tree.plot_tree(clf, \n",
    "                   feature_names=list(X_train.columns),  \n",
    "                   class_names=['Migros', 'Volg'],\n",
    "                   filled=True,\n",
    "                   fontsize=10,\n",
    "                   label='root')"
   ]
  },
  {
   "cell_type": "markdown",
   "id": "6e319d53",
   "metadata": {},
   "source": [
    "### Show confusion matrix and classification report"
   ]
  },
  {
   "cell_type": "code",
   "execution_count": 80,
   "id": "7bdbafc9",
   "metadata": {},
   "outputs": [
    {
     "name": "stdout",
     "output_type": "stream",
     "text": [
      "Confusion matrix\n",
      "[[100   8]\n",
      " [  8  24]] \n",
      "\n",
      "Classification report\n",
      "              precision    recall  f1-score   support\n",
      "\n",
      "      Migros       0.93      0.93      0.93       108\n",
      "        Volg       0.75      0.75      0.75        32\n",
      "\n",
      "    accuracy                           0.89       140\n",
      "   macro avg       0.84      0.84      0.84       140\n",
      "weighted avg       0.89      0.89      0.89       140\n",
      "\n"
     ]
    }
   ],
   "source": [
    "# Confusion matrix\n",
    "print('Confusion matrix')\n",
    "print(confusion_matrix(y_test, y_pred), '\\n')\n",
    "\n",
    "# Classification report\n",
    "print('Classification report')\n",
    "print(classification_report(y_test, y_pred))"
   ]
  },
  {
   "cell_type": "markdown",
   "id": "a10c1919",
   "metadata": {},
   "source": [
    "### ROC curve and AUC"
   ]
  },
  {
   "cell_type": "code",
   "execution_count": 81,
   "id": "662a91aa",
   "metadata": {},
   "outputs": [
    {
     "data": {
      "image/png": "[encoded data removed]",
      "text/plain": [
       "<Figure size 600x400 with 1 Axes>"
      ]
     },
     "metadata": {},
     "output_type": "display_data"
    }
   ],
   "source": [
    "# Initialize the random forest classifier\n",
    "rfc = RandomForestClassifier(random_state=20, max_depth=10)\n",
    "\n",
    "# Train the random forest classifier\n",
    "rfc = rfc.fit(X_train, y_train)\n",
    "\n",
    "# Predict the target variable (0 = not survived, 1 = survived)\n",
    "y_pred_rf = rfc.predict(X_test)\n",
    "\n",
    "y_pred_rf\n",
    "\n",
    "# Plot ROC curve and calculate AUC\n",
    "plt.figure(figsize=(6,4))\n",
    "ax = plt.gca()\n",
    "rfc_disp = RocCurveDisplay.from_estimator(rfc, \n",
    "                                          X_test, \n",
    "                                          y_test, \n",
    "                                          ax=ax,\n",
    "                                          alpha=0.8,\n",
    "                                          c=\"darkred\")\n",
    "plt.show()"
   ]
  },
  {
   "cell_type": "markdown",
   "id": "5123f45e",
   "metadata": {},
   "source": [
    "### Create train and test samples (train = 80%, test = 20% of the data)"
   ]
  },
  {
   "cell_type": "code",
   "execution_count": 82,
   "id": "7141b2d8",
   "metadata": {},
   "outputs": [
    {
     "name": "stdout",
     "output_type": "stream",
     "text": [
      "X2_train:\n",
      "            lat       lon     pop      pop_dens    frg_pct       emp\n",
      "427   46.767777  9.062487    1728     17.891903   8.217593     725.0\n",
      "271   47.552670  7.592713  173232   7263.396226  37.955459  185432.0\n",
      "1149  46.203871  6.146234  203951  12810.992462  47.954656  186620.0\n",
      "2655  46.774599  9.207659    4757     35.638298  16.312802    3229.0\n",
      "2369  47.126317  7.246363    6872   4521.052632  26.062282    3185.0 \n",
      "\n",
      "y2_train:\n",
      "427       Volg\n",
      "271     Migros\n",
      "1149    Migros\n",
      "2655    Migros\n",
      "2369    Migros\n",
      "Name: brand, dtype: object\n"
     ]
    }
   ],
   "source": [
    "# Create train and test samples\n",
    "X2_train, X2_test, y2_train, y2_test = train_test_split(df_sub[['lat',\n",
    "                                                                'lon',\n",
    "                                                                'pop', \n",
    "                                                                'pop_dens', \n",
    "                                                                'frg_pct', \n",
    "                                                                'emp']], \n",
    "                                                        df_sub['brand'], \n",
    "                                                        test_size=0.2, \n",
    "                                                        random_state=42)\n",
    "\n",
    "# Show X2_train\n",
    "print('X2_train:')\n",
    "print(X2_train.head(), '\\n')\n",
    "\n",
    "# Show y2_train\n",
    "print('y2_train:')\n",
    "print(y2_train.head())"
   ]
  },
  {
   "cell_type": "markdown",
   "id": "db15ac37",
   "metadata": {},
   "source": [
    "### Fit the Random Forest Classifier"
   ]
  },
  {
   "cell_type": "code",
   "execution_count": 83,
   "id": "3bd21de8",
   "metadata": {},
   "outputs": [
    {
     "name": "stdout",
     "output_type": "stream",
     "text": [
      "Predicted target variable (0 = Migros, 1 = Volg)\n"
     ]
    },
    {
     "data": {
      "text/plain": [
       "array(['Migros', 'Migros', 'Migros', 'Migros', 'Volg', 'Migros', 'Migros',\n",
       "       'Migros', 'Volg', 'Migros', 'Volg', 'Migros', 'Migros', 'Migros',\n",
       "       'Migros', 'Volg', 'Volg', 'Volg', 'Volg', 'Volg', 'Volg', 'Migros',\n",
       "       'Volg', 'Volg', 'Migros', 'Volg', 'Volg', 'Migros', 'Volg',\n",
       "       'Migros', 'Migros', 'Volg', 'Migros', 'Migros', 'Migros', 'Migros',\n",
       "       'Migros', 'Migros', 'Migros', 'Migros', 'Migros', 'Migros', 'Volg',\n",
       "       'Volg', 'Volg', 'Migros', 'Volg', 'Volg', 'Migros', 'Migros',\n",
       "       'Migros', 'Migros', 'Migros', 'Migros', 'Migros', 'Migros', 'Volg',\n",
       "       'Migros', 'Volg', 'Volg', 'Migros', 'Migros', 'Migros', 'Migros',\n",
       "       'Migros', 'Volg', 'Migros', 'Migros', 'Migros', 'Migros', 'Migros',\n",
       "       'Migros', 'Volg', 'Migros', 'Migros', 'Volg', 'Migros', 'Migros',\n",
       "       'Migros', 'Volg', 'Volg', 'Migros', 'Volg', 'Migros', 'Migros',\n",
       "       'Migros', 'Migros', 'Migros', 'Migros', 'Migros', 'Migros', 'Volg',\n",
       "       'Migros', 'Migros', 'Migros', 'Migros', 'Migros', 'Migros',\n",
       "       'Migros', 'Migros', 'Migros', 'Migros', 'Migros', 'Volg', 'Migros',\n",
       "       'Migros', 'Migros', 'Migros', 'Volg', 'Migros', 'Volg', 'Volg',\n",
       "       'Migros', 'Migros', 'Volg', 'Migros', 'Volg', 'Migros', 'Volg',\n",
       "       'Migros', 'Migros', 'Volg', 'Migros', 'Volg', 'Volg', 'Volg',\n",
       "       'Volg', 'Migros', 'Migros', 'Migros', 'Migros', 'Migros', 'Migros',\n",
       "       'Migros', 'Migros', 'Migros', 'Migros', 'Migros', 'Migros',\n",
       "       'Migros'], dtype=object)"
      ]
     },
     "execution_count": 83,
     "metadata": {},
     "output_type": "execute_result"
    }
   ],
   "source": [
    "# Initialize the random forest classifier\n",
    "rfc = RandomForestClassifier(random_state=20, max_depth=10)\n",
    "\n",
    "# Train the random forest classifier\n",
    "rfc = rfc.fit(X2_train, y2_train)\n",
    "\n",
    "# Predict the target variable (0 = not survived, 1 = survived)\n",
    "y_pred_rf = rfc.predict(X2_test)\n",
    "\n",
    "print('Predicted target variable (0 = Migros, 1 = Volg)')\n",
    "y_pred_rf"
   ]
  },
  {
   "cell_type": "markdown",
   "id": "81eefb08",
   "metadata": {},
   "source": [
    "### Show confusion matrix and classification report"
   ]
  },
  {
   "cell_type": "code",
   "execution_count": 84,
   "id": "f8f171ff",
   "metadata": {},
   "outputs": [
    {
     "name": "stdout",
     "output_type": "stream",
     "text": [
      "Confusion matrix\n",
      "[[94 14]\n",
      " [ 4 28]] \n",
      "\n",
      "Classification report\n",
      "              precision    recall  f1-score   support\n",
      "\n",
      "      Migros       0.96      0.87      0.91       108\n",
      "        Volg       0.67      0.88      0.76        32\n",
      "\n",
      "    accuracy                           0.87       140\n",
      "   macro avg       0.81      0.87      0.83       140\n",
      "weighted avg       0.89      0.87      0.88       140\n",
      "\n"
     ]
    }
   ],
   "source": [
    "# Confusion matrix\n",
    "print('Confusion matrix')\n",
    "print(confusion_matrix(y2_test, y_pred_rf), '\\n')\n",
    "\n",
    "# Classification report\n",
    "print('Classification report')\n",
    "print(classification_report(y2_test, y_pred_rf))"
   ]
  },
  {
   "cell_type": "markdown",
   "id": "dcba715c",
   "metadata": {},
   "source": [
    "### Show feature importance"
   ]
  },
  {
   "cell_type": "code",
   "execution_count": 85,
   "id": "a566ca03",
   "metadata": {},
   "outputs": [
    {
     "name": "stdout",
     "output_type": "stream",
     "text": [
      "Index(['pop', 'emp', 'pop_dens', 'frg_pct', 'lon', 'lat'], dtype='object')\n",
      "[0.28072121 0.20880958 0.15143052 0.13579343 0.12115358 0.10209169]\n"
     ]
    },
    {
     "data": {
      "text/plain": [
       "<AxesSubplot: ylabel='features'>"
      ]
     },
     "execution_count": 85,
     "metadata": {},
     "output_type": "execute_result"
    },
    {
     "data": {
      "image/png": "[encoded data removed]",
      "text/plain": [
       "<Figure size 600x300 with 1 Axes>"
      ]
     },
     "metadata": {},
     "output_type": "display_data"
    }
   ],
   "source": [
    "cols = X2_train.columns\n",
    "\n",
    "# Derive feature importance from random forest\n",
    "importances = rfc.feature_importances_\n",
    "std = np.std([tree.feature_importances_ for tree in rfc.estimators_], axis=0)\n",
    "indices = np.argsort(importances)[::-1]\n",
    "\n",
    "# Print col-names and importances-values\n",
    "print( cols[indices] )\n",
    "print( importances[indices] )\n",
    "\n",
    "# Barplot with feature importance\n",
    "df_fi = pd.DataFrame({'features':cols,'importances': importances})\n",
    "df_fi.sort_values('importances', inplace=True)\n",
    "df_fi.plot(kind='barh', \n",
    "           y='importances', \n",
    "           x='features', \n",
    "           color='darkred', \n",
    "           figsize=(6,3))"
   ]
  },
  {
   "cell_type": "markdown",
   "id": "f0039738",
   "metadata": {},
   "source": [
    "### ROC curve and AUC"
   ]
  },
  {
   "cell_type": "code",
   "execution_count": 86,
   "id": "410b176f",
   "metadata": {},
   "outputs": [
    {
     "data": {
      "image/png": "[encoded data removed]",
      "text/plain": [
       "<Figure size 600x400 with 1 Axes>"
      ]
     },
     "metadata": {},
     "output_type": "display_data"
    }
   ],
   "source": [
    "# Initialize the random forest classifier\n",
    "rfc = RandomForestClassifier(random_state=20, max_depth=10)\n",
    "\n",
    "# Train the random forest classifier\n",
    "rfc = rfc.fit(X2_train, y2_train)\n",
    "\n",
    "# Predict the target variable (0 = Migros, 1 = Volg)\n",
    "y_pred_rf = rfc.predict(X2_test)\n",
    "\n",
    "y_pred_rf\n",
    "\n",
    "# Plot ROC curve and calculate AUC\n",
    "plt.figure(figsize=(6,4))\n",
    "ax = plt.gca()\n",
    "rfc_disp = RocCurveDisplay.from_estimator(rfc, \n",
    "                                          X2_test, \n",
    "                                          y2_test, \n",
    "                                          ax=ax,\n",
    "                                          alpha=0.8,\n",
    "                                          c=\"darkred\")\n",
    "plt.show()"
   ]
  },
  {
   "cell_type": "markdown",
   "id": "387bd5b3",
   "metadata": {},
   "source": [
    "### Jupyter notebook --footer info-- (please always provide this at the end of each submitted notebook)"
   ]
  },
  {
   "cell_type": "code",
   "execution_count": 87,
   "id": "c933c713",
   "metadata": {},
   "outputs": [
    {
     "name": "stdout",
     "output_type": "stream",
     "text": [
      "-----------------------------------\n",
      "POSIX\n",
      "Darwin | 23.1.0\n",
      "Datetime: 2023-12-15 01:00:26\n",
      "Python Version: 3.10.13\n",
      "-----------------------------------\n"
     ]
    }
   ],
   "source": [
    "import os\n",
    "import platform\n",
    "import socket\n",
    "from platform import python_version\n",
    "from datetime import datetime\n",
    "\n",
    "print('-----------------------------------')\n",
    "print(os.name.upper())\n",
    "print(platform.system(), '|', platform.release())\n",
    "print('Datetime:', datetime.now().strftime(\"%Y-%m-%d %H:%M:%S\"))\n",
    "print('Python Version:', python_version())\n",
    "print('-----------------------------------')"
   ]
  }
 ],
 "metadata": {
  "kernelspec": {
   "display_name": "Python 3 (ipykernel)",
   "language": "python",
   "name": "python3"
  },
  "language_info": {
   "codemirror_mode": {
    "name": "ipython",
    "version": 3
   },
   "file_extension": ".py",
   "mimetype": "text/x-python",
   "name": "python",
   "nbconvert_exporter": "python",
   "pygments_lexer": "ipython3",
   "version": "3.10.13"
  }
 },
 "nbformat": 4,
 "nbformat_minor": 5
}
