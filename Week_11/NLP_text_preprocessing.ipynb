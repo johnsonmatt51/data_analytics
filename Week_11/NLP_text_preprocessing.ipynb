{
 "cells": [
  {
   "cell_type": "markdown",
   "id": "e0f68ae5",
   "metadata": {},
   "source": [
    "# Natural Language Processing - Text Preprocessing"
   ]
  },
  {
   "cell_type": "markdown",
   "id": "2054b14d",
   "metadata": {},
   "source": [
    "## Libraries and settings"
   ]
  },
  {
   "cell_type": "code",
   "execution_count": 31,
   "id": "ba4eb3dc",
   "metadata": {},
   "outputs": [
    {
     "name": "stdout",
     "output_type": "stream",
     "text": [
      "Current working directory: /Users/matthewjohnson/Documents/Studium/Module/DA/data_analytics/Week_11\n"
     ]
    },
    {
     "name": "stderr",
     "output_type": "stream",
     "text": [
      "[nltk_data] Downloading package stopwords to\n",
      "[nltk_data]     /Users/matthewjohnson/nltk_data...\n",
      "[nltk_data]   Package stopwords is already up-to-date!\n",
      "[nltk_data] Downloading package punkt to\n",
      "[nltk_data]     /Users/matthewjohnson/nltk_data...\n",
      "[nltk_data]   Package punkt is already up-to-date!\n",
      "[nltk_data] Downloading package wordnet to\n",
      "[nltk_data]     /Users/matthewjohnson/nltk_data...\n",
      "[nltk_data]   Package wordnet is already up-to-date!\n",
      "[nltk_data] Downloading package omw-1.4 to\n",
      "[nltk_data]     /Users/matthewjohnson/nltk_data...\n",
      "[nltk_data]   Package omw-1.4 is already up-to-date!\n",
      "[nltk_data] Downloading package averaged_perceptron_tagger to\n",
      "[nltk_data]     /Users/matthewjohnson/nltk_data...\n",
      "[nltk_data]   Package averaged_perceptron_tagger is already up-to-\n",
      "[nltk_data]       date!\n"
     ]
    }
   ],
   "source": [
    "# Libraries\n",
    "import os\n",
    "import re\n",
    "import string\n",
    "import numpy as np\n",
    "import pandas as pd\n",
    "from pprint import pprint\n",
    "\n",
    "import nltk\n",
    "\n",
    "# Import only once\n",
    "nltk.download('stopwords')\n",
    "nltk.download('punkt')\n",
    "nltk.download('wordnet')\n",
    "nltk.download('omw-1.4')\n",
    "nltk.download('averaged_perceptron_tagger')\n",
    "\n",
    "from nltk.tag import pos_tag\n",
    "from nltk.corpus import stopwords\n",
    "from nltk.chunk import tree2conlltags\n",
    "from nltk.chunk import conlltags2tree\n",
    "from nltk.tokenize import word_tokenize\n",
    "from nltk.stem import WordNetLemmatizer\n",
    "\n",
    "from sklearn.feature_extraction.text import CountVectorizer\n",
    "from sklearn.feature_extraction.text import TfidfVectorizer\n",
    "\n",
    "# Ignore warnings\n",
    "import warnings\n",
    "warnings.filterwarnings('ignore')\n",
    "\n",
    "# Current working directory\n",
    "print('Current working directory:', os.getcwd())"
   ]
  },
  {
   "cell_type": "markdown",
   "id": "e252684a",
   "metadata": {},
   "source": [
    "## Defining documents"
   ]
  },
  {
   "cell_type": "code",
   "execution_count": 32,
   "id": "e8057467",
   "metadata": {},
   "outputs": [
    {
     "data": {
      "text/plain": [
       "'Unfortunately I support Chelsea Football Club. They make my weekends miserable. Nevertheless I keep the blue flag flying high.'"
      ]
     },
     "execution_count": 32,
     "metadata": {},
     "output_type": "execute_result"
    }
   ],
   "source": [
    "# Defining documents (=sentenses)\n",
    "d1 = 'Unfortunately I support Chelsea Football Club.'\n",
    "d2 = 'They make my weekends miserable.'\n",
    "d3 = 'Nevertheless I keep the blue flag flying high.'\n",
    "\n",
    "corpus_01 = d1 + ' ' + d2 + ' ' + d3\n",
    "corpus_01"
   ]
  },
  {
   "cell_type": "markdown",
   "id": "49fadda5",
   "metadata": {},
   "source": [
    "## Text preprocessing\n",
    "#### Steps:\n",
    "- Text to lowercase\n",
    "- Removing punctuations\n",
    "- Tokenization\n",
    "- Removal of stop words\n",
    "- Lemmatization"
   ]
  },
  {
   "cell_type": "markdown",
   "id": "71e649b8",
   "metadata": {},
   "source": [
    "### Text to lowercase"
   ]
  },
  {
   "cell_type": "code",
   "execution_count": 33,
   "id": "2666c8b1",
   "metadata": {},
   "outputs": [
    {
     "data": {
      "text/plain": [
       "'unfortunately i support chelsea football club. they make my weekends miserable. nevertheless i keep the blue flag flying high.'"
      ]
     },
     "execution_count": 33,
     "metadata": {},
     "output_type": "execute_result"
    }
   ],
   "source": [
    "# Text to lowercase function\n",
    "def text_lowercase(text):\n",
    "    return text.lower()\n",
    "\n",
    "# Text to lowercase\n",
    "corpus_02 = text_lowercase(corpus_01)\n",
    "corpus_02"
   ]
  },
  {
   "cell_type": "markdown",
   "id": "c837286f",
   "metadata": {},
   "source": [
    "### Removing punctuation"
   ]
  },
  {
   "cell_type": "code",
   "execution_count": 34,
   "id": "90067406",
   "metadata": {},
   "outputs": [
    {
     "data": {
      "text/plain": [
       "'unfortunately i support chelsea football club they make my weekends miserable nevertheless i keep the blue flag flying high'"
      ]
     },
     "execution_count": 34,
     "metadata": {},
     "output_type": "execute_result"
    }
   ],
   "source": [
    "# Remove punctuation function\n",
    "def remove_punctuation(text):\n",
    "    translator = str.maketrans('', '', string.punctuation)\n",
    "    return text.translate(translator)\n",
    "\n",
    "# Remove punctuation\n",
    "corpus_03 = remove_punctuation(corpus_02)\n",
    "corpus_03"
   ]
  },
  {
   "cell_type": "markdown",
   "id": "986153d2",
   "metadata": {},
   "source": [
    "### Tokenize text & removal of stopwords"
   ]
  },
  {
   "cell_type": "code",
   "execution_count": 35,
   "id": "e2e99fbd",
   "metadata": {},
   "outputs": [
    {
     "name": "stdout",
     "output_type": "stream",
     "text": [
      "List of english stopwords:\n",
      "{'their', 'should', 'to', 'such', 'through', 'is', 'why', 'about', \"mustn't\", 'they', \"won't\", 'yourself', 'has', 'here', 'some', 'down', 'then', \"aren't\", 'nor', 'again', 'any', 'his', 'while', 'my', \"you've\", 'or', 'having', \"you'll\", 'against', 'same', 'mustn', \"shouldn't\", 'if', 'in', 'the', 'up', 'own', \"didn't\", 'very', 'being', 'with', 'both', 'no', 'more', 'other', 'just', 'couldn', 'which', 'shouldn', 'our', \"haven't\", 'an', 'below', 'herself', 'were', 'be', 'this', 'hadn', 'hasn', \"you're\", 'her', 'between', 'all', 'now', 've', 'not', 'whom', 'yourselves', 'can', 'we', 'so', \"doesn't\", 'had', \"isn't\", 'do', 'than', 'will', \"hasn't\", 'he', 'a', \"mightn't\", 'for', \"needn't\", 'i', 'weren', 'did', 'himself', 'itself', \"weren't\", 'yours', \"you'd\", 'didn', 'your', 'him', \"she's\", 'm', 'by', 'are', 'but', 'ours', \"don't\", 'isn', 'these', 'that', 'was', 'and', 'where', 'ma', 'me', 're', \"hadn't\", 'needn', 'you', 'each', 'y', 'at', 'it', 'its', 'because', 'there', 'hers', \"that'll\", 'ourselves', 'of', 'them', 'themselves', 'into', 'd', 'won', 'after', 'as', 'been', \"wouldn't\", 'before', 'does', 'shan', \"wasn't\", 'wasn', 'under', 'have', 'further', \"shan't\", 'wouldn', 'what', 'mightn', 'how', 'out', 'few', 'above', \"it's\", 'once', 'haven', 'on', 'aren', 'only', 'off', 'those', 'am', 'during', 'll', 'from', 'most', 'doesn', 'until', 'she', 'ain', 'who', \"couldn't\", 's', 'too', 'over', 't', 'when', 'don', 'o', 'theirs', \"should've\", 'myself', 'doing'}\n"
     ]
    }
   ],
   "source": [
    "# Show english stopwords\n",
    "eng_stopwords = set(stopwords.words('english'))\n",
    "print(\"List of english stopwords:\")\n",
    "print(eng_stopwords)"
   ]
  },
  {
   "cell_type": "code",
   "execution_count": 36,
   "id": "d83ab939",
   "metadata": {},
   "outputs": [
    {
     "name": "stdout",
     "output_type": "stream",
     "text": [
      "['unfortunately', 'support', 'chelsea', 'football', 'club', 'make', 'weekends', 'miserable', 'nevertheless', 'keep', 'blue', 'flag', 'flying', 'high']"
     ]
    }
   ],
   "source": [
    "# Function for tokenization and the removal of stopwords\n",
    "def remove_stopwords(text):\n",
    "    stop_words = set(stopwords.words(\"english\"))\n",
    "    word_tokens = word_tokenize(text)\n",
    "    filtered_text = [word for word in word_tokens if word not in stop_words]\n",
    "    return filtered_text\n",
    " \n",
    "# Remove stopwords\n",
    "corpus_04 = remove_stopwords(corpus_03)\n",
    "print(corpus_04, end=\"\")"
   ]
  },
  {
   "cell_type": "markdown",
   "id": "ad590183",
   "metadata": {},
   "source": [
    "### Lemmatization"
   ]
  },
  {
   "cell_type": "code",
   "execution_count": 37,
   "id": "410fed5d",
   "metadata": {},
   "outputs": [
    {
     "name": "stdout",
     "output_type": "stream",
     "text": [
      "Before lemmatization:\n",
      "['unfortunately', 'support', 'chelsea', 'football', 'club', 'make', 'weekends', 'miserable', 'nevertheless', 'keep', 'blue', 'flag', 'flying', 'high'] \n",
      "\n",
      "After lemmatization:\n",
      "['unfortunately', 'support', 'chelsea', 'football', 'club', 'make', 'weekend', 'miserable', 'nevertheless', 'keep', 'blue', 'flag', 'fly', 'high']"
     ]
    }
   ],
   "source": [
    "# Initialize Lemmatizer\n",
    "lemmatizer = WordNetLemmatizer()\n",
    "\n",
    "# Lemmatize string function\n",
    "def lemmatize_word(text):\n",
    "    word_tokens = word_tokenize(text)\n",
    "    lemmas = [lemmatizer.lemmatize(word, pos ='v') for word in word_tokens]\n",
    "    return lemmas\n",
    "\n",
    "# Lemmatize\n",
    "lem = []\n",
    "for i in corpus_04:\n",
    "    lem.append(lemmatize_word(i))\n",
    "\n",
    "# Nested list to list\n",
    "corpus_05 = [' '.join([str(x) for x in lst]) for lst in lem]\n",
    "\n",
    "print('Before lemmatization:')\n",
    "print(corpus_04, '\\n')\n",
    "\n",
    "print('After lemmatization:')\n",
    "print(corpus_05, end=\"\")"
   ]
  },
  {
   "cell_type": "markdown",
   "id": "1d9ad6de",
   "metadata": {},
   "source": [
    "## Redefine the text corpus (pre-processed)"
   ]
  },
  {
   "cell_type": "code",
   "execution_count": 38,
   "id": "08a3cb57",
   "metadata": {},
   "outputs": [],
   "source": [
    "# We will use the lemmatized words above to re-define our corpus \n",
    "corpus = ['unfortunately support chelsea football club', \n",
    "          'make weekend miserable', \n",
    "          'nevertheless keep blue flag', 'fly', 'high']"
   ]
  },
  {
   "cell_type": "markdown",
   "id": "198cc6d0",
   "metadata": {},
   "source": [
    "## Document-term matrix with ngram_range=(1,1)"
   ]
  },
  {
   "cell_type": "code",
   "execution_count": 39,
   "id": "ead679d3",
   "metadata": {},
   "outputs": [
    {
     "name": "stdout",
     "output_type": "stream",
     "text": [
      "Document-term matrix\n",
      "   blue  chelsea  club  flag  fly  football  high  keep  make  miserable  \\\n",
      "0     0        1     1     0    0         1     0     0     0          0   \n",
      "1     0        0     0     0    0         0     0     0     1          1   \n",
      "2     1        0     0     1    0         0     0     1     0          0   \n",
      "3     0        0     0     0    1         0     0     0     0          0   \n",
      "4     0        0     0     0    0         0     1     0     0          0   \n",
      "\n",
      "   nevertheless  support  unfortunately  weekend  \n",
      "0             0        1              1        0  \n",
      "1             0        0              0        1  \n",
      "2             1        0              0        0  \n",
      "3             0        0              0        0  \n",
      "4             0        0              0        0  \n"
     ]
    }
   ],
   "source": [
    "# Vectorizer with ngram_range=(1,1)\n",
    "vectorizer = CountVectorizer(min_df=0.0, ngram_range=(1,1))\n",
    "\n",
    "# Transform \n",
    "count = vectorizer.fit_transform(corpus)\n",
    " \n",
    "# Create dataframe\n",
    "df_count = pd.DataFrame(count.toarray(),\n",
    "                        columns=vectorizer.get_feature_names_out())\n",
    "\n",
    "print('Document-term matrix')\n",
    "print(df_count)"
   ]
  },
  {
   "cell_type": "markdown",
   "id": "417feb3a",
   "metadata": {},
   "source": [
    "## Document-term matrix with ngram_range=(2,2)"
   ]
  },
  {
   "cell_type": "code",
   "execution_count": 40,
   "id": "4eb33ec6",
   "metadata": {},
   "outputs": [
    {
     "name": "stdout",
     "output_type": "stream",
     "text": [
      "Document-term matrix\n",
      "   blue flag  chelsea football  football club  keep blue  make weekend  \\\n",
      "0          0                 1              1          0             0   \n",
      "1          0                 0              0          0             1   \n",
      "2          1                 0              0          1             0   \n",
      "3          0                 0              0          0             0   \n",
      "4          0                 0              0          0             0   \n",
      "\n",
      "   nevertheless keep  support chelsea  unfortunately support  \\\n",
      "0                  0                1                      1   \n",
      "1                  0                0                      0   \n",
      "2                  1                0                      0   \n",
      "3                  0                0                      0   \n",
      "4                  0                0                      0   \n",
      "\n",
      "   weekend miserable  \n",
      "0                  0  \n",
      "1                  1  \n",
      "2                  0  \n",
      "3                  0  \n",
      "4                  0  \n"
     ]
    }
   ],
   "source": [
    "# Vectorizer with with ngram_range=(2,2)\n",
    "vectorizer = CountVectorizer(min_df=0.0, ngram_range=(2,2))\n",
    "\n",
    "# Transform \n",
    "count = vectorizer.fit_transform(corpus)\n",
    " \n",
    "# Create dataframe\n",
    "df_count = pd.DataFrame(count.toarray(),\n",
    "                        columns=vectorizer.get_feature_names_out())\n",
    "\n",
    "print('Document-term matrix')\n",
    "print(df_count)"
   ]
  },
  {
   "cell_type": "markdown",
   "id": "c846a236",
   "metadata": {},
   "source": [
    "## Term frequency-inverse document frequency (TF-IDF)\n",
    "- For details see: https://www.learndatasci.com/glossary/tf-idf-term-frequency-inverse-document-frequency"
   ]
  },
  {
   "cell_type": "markdown",
   "id": "5854fa81",
   "metadata": {},
   "source": [
    "### Term Frequency (TF)"
   ]
  },
  {
   "cell_type": "code",
   "execution_count": 41,
   "id": "f9ff38f9",
   "metadata": {},
   "outputs": [
    {
     "name": "stdout",
     "output_type": "stream",
     "text": [
      "Number of words in the corpus: 14 \n",
      "\n",
      "The words in the corpus: \n",
      " {'nevertheless', 'football', 'fly', 'chelsea', 'make', 'club', 'weekend', 'flag', 'miserable', 'blue', 'unfortunately', 'high', 'support', 'keep'}\n",
      "\n",
      "Term Frequency (TF):\n",
      "   nevertheless  football  fly  chelsea    make  club  weekend  flag  \\\n",
      "0          0.00       0.2  0.0      0.2  0.0000   0.2   0.0000  0.00   \n",
      "1          0.00       0.0  0.0      0.0  0.3333   0.0   0.3333  0.00   \n",
      "2          0.25       0.0  0.0      0.0  0.0000   0.0   0.0000  0.25   \n",
      "3          0.00       0.0  1.0      0.0  0.0000   0.0   0.0000  0.00   \n",
      "4          0.00       0.0  0.0      0.0  0.0000   0.0   0.0000  0.00   \n",
      "\n",
      "   miserable  blue  unfortunately  high  support  keep  \n",
      "0     0.0000  0.00            0.2   0.0      0.2  0.00  \n",
      "1     0.3333  0.00            0.0   0.0      0.0  0.00  \n",
      "2     0.0000  0.25            0.0   0.0      0.0  0.25  \n",
      "3     0.0000  0.00            0.0   0.0      0.0  0.00  \n",
      "4     0.0000  0.00            0.0   1.0      0.0  0.00  \n"
     ]
    }
   ],
   "source": [
    "# Compute Term Frequency (TF)\n",
    "words_set = set()\n",
    "for doc in corpus:\n",
    "    words = doc.split(' ')\n",
    "    words_set = words_set.union(set(words))\n",
    "    \n",
    "print('Number of words in the corpus:',len(words_set), '\\n')\n",
    "print('The words in the corpus: \\n', words_set)\n",
    "\n",
    "# Number of documents in the corpus\n",
    "n_docs = len(corpus)\n",
    "\n",
    "# Number of unique words in the corpus \n",
    "n_words_set = len(words_set)\n",
    "\n",
    "df_tf = pd.DataFrame(np.zeros((n_docs, n_words_set)), \n",
    "                     columns=list(words_set))\n",
    "\n",
    "print(\"\\nTerm Frequency (TF):\")\n",
    "for i in range(n_docs):\n",
    "    # Words in the document\n",
    "    words = corpus[i].split(' ')\n",
    "    for w in words:\n",
    "        df_tf[w][i] = df_tf[w][i] + (1 / len(words))\n",
    "        \n",
    "print(df_tf.round(4))"
   ]
  },
  {
   "cell_type": "markdown",
   "id": "d91dae3d",
   "metadata": {},
   "source": [
    "### Inverse Document Frequency (IDF)"
   ]
  },
  {
   "cell_type": "code",
   "execution_count": 42,
   "id": "5fe31336",
   "metadata": {},
   "outputs": [
    {
     "name": "stdout",
     "output_type": "stream",
     "text": [
      "\n",
      "Inverse Document Frequency (IDF):\n",
      "   nevertheless:      0.699\n",
      "       football:      0.699\n",
      "            fly:      0.699\n",
      "        chelsea:      0.699\n",
      "           make:      0.699\n",
      "           club:      0.699\n",
      "        weekend:      0.699\n",
      "           flag:      0.699\n",
      "      miserable:      0.699\n",
      "           blue:      0.699\n",
      "  unfortunately:      0.699\n",
      "           high:      0.699\n",
      "        support:      0.699\n",
      "           keep:      0.699\n"
     ]
    }
   ],
   "source": [
    "# Computing Inverse Document Frequency (IDF)\n",
    "print(\"\\nInverse Document Frequency (IDF):\")\n",
    "\n",
    "idf = {}\n",
    "\n",
    "for w in words_set:\n",
    "    \n",
    "    # k = number of documents that contain this word\n",
    "    k = 0\n",
    "    \n",
    "    for i in range(n_docs):\n",
    "        if w in corpus[i].split():\n",
    "            k += 1\n",
    "            \n",
    "    idf[w] =  np.log10(n_docs / k).round(4)\n",
    "    \n",
    "    print(f'{w:>15}: {idf[w]:>10}')"
   ]
  },
  {
   "cell_type": "markdown",
   "id": "cc493eae",
   "metadata": {},
   "source": [
    "### Term Frequency - Inverse Document Frequency (TF-IDF)"
   ]
  },
  {
   "cell_type": "code",
   "execution_count": 43,
   "id": "9c5ae575",
   "metadata": {},
   "outputs": [
    {
     "name": "stdout",
     "output_type": "stream",
     "text": [
      "\n",
      "TF-IDF:\n",
      "   nevertheless  football    fly  chelsea   make    club  weekend    flag  \\\n",
      "0        0.0000    0.1398  0.000   0.1398  0.000  0.1398    0.000  0.0000   \n",
      "1        0.0000    0.0000  0.000   0.0000  0.233  0.0000    0.233  0.0000   \n",
      "2        0.1748    0.0000  0.000   0.0000  0.000  0.0000    0.000  0.1748   \n",
      "3        0.0000    0.0000  0.699   0.0000  0.000  0.0000    0.000  0.0000   \n",
      "4        0.0000    0.0000  0.000   0.0000  0.000  0.0000    0.000  0.0000   \n",
      "\n",
      "   miserable    blue  unfortunately   high  support    keep  \n",
      "0      0.000  0.0000         0.1398  0.000   0.1398  0.0000  \n",
      "1      0.233  0.0000         0.0000  0.000   0.0000  0.0000  \n",
      "2      0.000  0.1748         0.0000  0.000   0.0000  0.1748  \n",
      "3      0.000  0.0000         0.0000  0.000   0.0000  0.0000  \n",
      "4      0.000  0.0000         0.0000  0.699   0.0000  0.0000  \n"
     ]
    }
   ],
   "source": [
    "# Computing TF-IDF\n",
    "df_tf_idf = df_tf.copy()\n",
    "\n",
    "for w in words_set:\n",
    "    for i in range(n_docs):\n",
    "        df_tf_idf[w][i] = df_tf[w][i] * idf[w]\n",
    "\n",
    "print('\\nTF-IDF:')\n",
    "print(df_tf_idf.round(4))"
   ]
  },
  {
   "cell_type": "markdown",
   "id": "6e7b0f38",
   "metadata": {},
   "source": [
    "## Part-of-Speach (POS) tagging\n",
    "For meaning of POS-tags see: https://pythonexamples.org/nltk-pos-tagging"
   ]
  },
  {
   "cell_type": "code",
   "execution_count": 44,
   "id": "5c8c05c3",
   "metadata": {},
   "outputs": [
    {
     "name": "stdout",
     "output_type": "stream",
     "text": [
      "[('Chelsea', 'NN', 'B-NP'),\n",
      " ('were', 'VBD', 'O'),\n",
      " ('accused', 'VBN', 'O'),\n",
      " ('of', 'IN', 'O'),\n",
      " ('cheating', 'VBG', 'O'),\n",
      " ('in', 'IN', 'O'),\n",
      " ('their', 'PRP$', 'O'),\n",
      " ('football', 'NN', 'B-NP'),\n",
      " ('competition', 'NN', 'B-NP'),\n",
      " ('.', '.', 'O'),\n",
      " ('But', 'CC', 'O'),\n",
      " ('their', 'PRP$', 'O'),\n",
      " ('owner', 'NN', 'B-NP'),\n",
      " ('found', 'VBD', 'O'),\n",
      " ('a', 'DT', 'B-NP'),\n",
      " ('loophole', 'NN', 'I-NP'),\n",
      " ('in', 'IN', 'O'),\n",
      " ('the', 'DT', 'O'),\n",
      " ('rules', 'NNS', 'O'),\n",
      " ('for', 'IN', 'O'),\n",
      " ('the', 'DT', 'O'),\n",
      " ('blues', 'NNS', 'O'),\n",
      " ('.', '.', 'O'),\n",
      " ('Their', 'PRP$', 'O'),\n",
      " ('miserable', 'JJ', 'O'),\n",
      " ('competitors', 'NNS', 'O'),\n",
      " ('begrudgingly', 'RB', 'O'),\n",
      " ('agreed', 'VBD', 'O'),\n",
      " ('.', '.', 'O')]\n"
     ]
    }
   ],
   "source": [
    "text = '''Chelsea were accused of cheating in their football competition.\n",
    "          But their owner found a loophole in the rules for the blues.\n",
    "          Their miserable competitors begrudgingly agreed.'''\n",
    "\n",
    "def preprocess(sent):\n",
    "    sent = nltk.word_tokenize(sent)\n",
    "    sent = nltk.pos_tag(sent)\n",
    "    return sent\n",
    "\n",
    "sent = preprocess(text)\n",
    "pattern = 'NP: {<DT>?<JJ>*<NN>}'\n",
    "\n",
    "cp = nltk.RegexpParser(pattern)\n",
    "cs = cp.parse(sent)\n",
    "\n",
    "iob_tagged = tree2conlltags(cs)\n",
    "\n",
    "# Print the POS-tags\n",
    "pprint(iob_tagged)"
   ]
  },
  {
   "cell_type": "markdown",
   "id": "acbf294b",
   "metadata": {},
   "source": [
    "NN: Noun (person/place/thing/idea) - chelsea, football\n",
    "VBG (Verb, gerund or present participle) - cheating\n",
    "DT (Determiner) - a, the\n",
    "RB (adverb) - a, the\n",
    "VBD (Verb, past tense) - were, accused, found"
   ]
  },
  {
   "cell_type": "markdown",
   "id": "7d1243de",
   "metadata": {},
   "source": [
    "### Jupyter notebook --footer info-- (please always provide this at the end of each submitted notebook)"
   ]
  },
  {
   "cell_type": "code",
   "execution_count": 45,
   "id": "017357b2",
   "metadata": {},
   "outputs": [
    {
     "name": "stdout",
     "output_type": "stream",
     "text": [
      "-----------------------------------\n",
      "POSIX\n",
      "Darwin | 23.1.0\n",
      "Datetime: 2023-12-15 02:06:47\n",
      "Python Version: 3.10.13\n",
      "-----------------------------------\n"
     ]
    }
   ],
   "source": [
    "import os\n",
    "import platform\n",
    "import socket\n",
    "from platform import python_version\n",
    "from datetime import datetime\n",
    "\n",
    "print('-----------------------------------')\n",
    "print(os.name.upper())\n",
    "print(platform.system(), '|', platform.release())\n",
    "print('Datetime:', datetime.now().strftime(\"%Y-%m-%d %H:%M:%S\"))\n",
    "print('Python Version:', python_version())\n",
    "print('-----------------------------------')"
   ]
  }
 ],
 "metadata": {
  "kernelspec": {
   "display_name": "Python 3 (ipykernel)",
   "language": "python",
   "name": "python3"
  },
  "language_info": {
   "codemirror_mode": {
    "name": "ipython",
    "version": 3
   },
   "file_extension": ".py",
   "mimetype": "text/x-python",
   "name": "python",
   "nbconvert_exporter": "python",
   "pygments_lexer": "ipython3",
   "version": "3.10.13"
  }
 },
 "nbformat": 4,
 "nbformat_minor": 5
}
